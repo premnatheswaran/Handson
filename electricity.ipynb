{
 "cells": [
  {
   "cell_type": "code",
   "execution_count": 86,
   "metadata": {},
   "outputs": [],
   "source": [
    "import requests# library to work with APIs in Python"
   ]
  },
  {
   "cell_type": "code",
   "execution_count": 87,
   "metadata": {},
   "outputs": [],
   "source": [
    "import json"
   ]
  },
  {
   "cell_type": "code",
   "execution_count": 88,
   "metadata": {},
   "outputs": [],
   "source": [
    "from datetime import datetime # for working wit timestamps"
   ]
  },
  {
   "cell_type": "code",
   "execution_count": 139,
   "metadata": {},
   "outputs": [],
   "source": [
    "# connecting to the API which interfaces with electricity data\n",
    "electricity = requests.get(\"https://stadt-aachen.e2watch.de/gebaeude/getChartData/265?medium=strom&chartId=strom&title=Strom&time=1584284914045\")"
   ]
  },
  {
   "cell_type": "markdown",
   "metadata": {
    "scrolled": false
   },
   "source": [
    "#print(electricity.json())"
   ]
  },
  {
   "cell_type": "code",
   "execution_count": 141,
   "metadata": {},
   "outputs": [],
   "source": [
    "result = electricity.json()['result'] # extracting only the date and the corresponding consumption"
   ]
  },
  {
   "cell_type": "code",
   "execution_count": 143,
   "metadata": {},
   "outputs": [
    {
     "data": {
      "text/plain": [
       "{'data': [[1581807600000, 7.11],\n",
       "  [1581894000000, 71.84000000000002],\n",
       "  [1581980400000, 66.96],\n",
       "  [1582066800000, 67.77],\n",
       "  [1582153200000, 59.300000000000004],\n",
       "  [1582239600000, 29.14],\n",
       "  [1582326000000, 6.98],\n",
       "  [1582412400000, 7.1],\n",
       "  [1582498800000, 10.05],\n",
       "  [1582585200000, 62.410000000000004],\n",
       "  [1582671600000, 71.22000000000001],\n",
       "  [1582758000000, 84.93],\n",
       "  [1582844400000, 61.959999999999994],\n",
       "  [1582930800000, 7.16],\n",
       "  [1583017200000, 7.17],\n",
       "  [1583103600000, 68.22999999999999],\n",
       "  [1583190000000, 62.70000000000001],\n",
       "  [1583276400000, 58.79],\n",
       "  [1583362800000, 73.64000000000001],\n",
       "  [1583449200000, 39.26999999999999],\n",
       "  [1583535600000, 13.580000000000002],\n",
       "  [1583622000000, 14.610000000000001],\n",
       "  [1583708400000, 68.39999999999999],\n",
       "  [1583794800000, 83.72999999999999],\n",
       "  [1583881200000, 68.21],\n",
       "  [1583967600000, 64.88000000000001],\n",
       "  [1584054000000, 71.68],\n",
       "  [1584140400000, 7.229999999999999],\n",
       "  [1584226800000, 0.19]],\n",
       " 'start': '15.02.2020 00:00:00',\n",
       " 'end': '16.03.2020 00:00:00',\n",
       " 'color': 'rgb(255,0,0)',\n",
       " 'unit': 'kWh',\n",
       " 'chartId': 'strom',\n",
       " 'title': 'Strom'}"
      ]
     },
     "execution_count": 143,
     "metadata": {},
     "output_type": "execute_result"
    }
   ],
   "source": [
    "result"
   ]
  },
  {
   "cell_type": "code",
   "execution_count": 144,
   "metadata": {},
   "outputs": [],
   "source": [
    "list_values = [ v for v in result.values() ] # converting the dictionary to list"
   ]
  },
  {
   "cell_type": "code",
   "execution_count": 145,
   "metadata": {},
   "outputs": [],
   "source": [
    "# modifying the values of list with only the required data\n",
    "dat = list_values[:-6]\n",
    "dat = dat[0] "
   ]
  },
  {
   "cell_type": "code",
   "execution_count": 146,
   "metadata": {},
   "outputs": [],
   "source": [
    "# converting the time stamp to exact date\n",
    "times = []\n",
    "powers = []\n",
    "\n",
    "for rt in range(len(dat)):\n",
    "    #print(dat[rt][0])\n",
    "    time = datetime.fromtimestamp((dat[rt][0])/1000)\n",
    "    power = dat[rt][1]\n",
    "    times.append(time)\n",
    "    powers.append(power)\n",
    "    #print(time)\n",
    "    #print(power)"
   ]
  },
  {
   "cell_type": "code",
   "execution_count": 147,
   "metadata": {},
   "outputs": [],
   "source": [
    "# creating a new dictionary with formatted values\n",
    "zipped = zip(times, powers)\n",
    "ele_data = dict(zipped)"
   ]
  },
  {
   "cell_type": "code",
   "execution_count": 154,
   "metadata": {},
   "outputs": [
    {
     "name": "stdout",
     "output_type": "stream",
     "text": [
      "{datetime.datetime(2020, 2, 16, 0, 0): 7.11, datetime.datetime(2020, 2, 17, 0, 0): 71.84000000000002, datetime.datetime(2020, 2, 18, 0, 0): 66.96, datetime.datetime(2020, 2, 19, 0, 0): 67.77, datetime.datetime(2020, 2, 20, 0, 0): 59.300000000000004, datetime.datetime(2020, 2, 21, 0, 0): 29.14, datetime.datetime(2020, 2, 22, 0, 0): 6.98, datetime.datetime(2020, 2, 23, 0, 0): 7.1, datetime.datetime(2020, 2, 24, 0, 0): 10.05, datetime.datetime(2020, 2, 25, 0, 0): 62.410000000000004, datetime.datetime(2020, 2, 26, 0, 0): 71.22000000000001, datetime.datetime(2020, 2, 27, 0, 0): 84.93, datetime.datetime(2020, 2, 28, 0, 0): 61.959999999999994, datetime.datetime(2020, 2, 29, 0, 0): 7.16, datetime.datetime(2020, 3, 1, 0, 0): 7.17, datetime.datetime(2020, 3, 2, 0, 0): 68.22999999999999, datetime.datetime(2020, 3, 3, 0, 0): 62.70000000000001, datetime.datetime(2020, 3, 4, 0, 0): 58.79, datetime.datetime(2020, 3, 5, 0, 0): 73.64000000000001, datetime.datetime(2020, 3, 6, 0, 0): 39.26999999999999, datetime.datetime(2020, 3, 7, 0, 0): 13.580000000000002, datetime.datetime(2020, 3, 8, 0, 0): 14.610000000000001, datetime.datetime(2020, 3, 9, 0, 0): 68.39999999999999, datetime.datetime(2020, 3, 10, 0, 0): 83.72999999999999, datetime.datetime(2020, 3, 11, 0, 0): 68.21, datetime.datetime(2020, 3, 12, 0, 0): 64.88000000000001, datetime.datetime(2020, 3, 13, 0, 0): 71.68, datetime.datetime(2020, 3, 14, 0, 0): 7.229999999999999, datetime.datetime(2020, 3, 15, 0, 0): 0.19}\n"
     ]
    }
   ],
   "source": [
    "print(ele_data)"
   ]
  },
  {
   "cell_type": "code",
   "execution_count": null,
   "metadata": {},
   "outputs": [],
   "source": []
  },
  {
   "cell_type": "code",
   "execution_count": null,
   "metadata": {},
   "outputs": [],
   "source": []
  },
  {
   "cell_type": "code",
   "execution_count": null,
   "metadata": {},
   "outputs": [],
   "source": []
  }
 ],
 "metadata": {
  "kernelspec": {
   "display_name": "Python 3",
   "language": "python",
   "name": "python3"
  },
  "language_info": {
   "codemirror_mode": {
    "name": "ipython",
    "version": 3
   },
   "file_extension": ".py",
   "mimetype": "text/x-python",
   "name": "python",
   "nbconvert_exporter": "python",
   "pygments_lexer": "ipython3",
   "version": "3.7.4"
  }
 },
 "nbformat": 4,
 "nbformat_minor": 2
}
