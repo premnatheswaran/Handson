{
 "cells": [
  {
   "cell_type": "code",
   "execution_count": null,
   "metadata": {},
   "outputs": [],
   "source": []
  },
  {
   "cell_type": "code",
   "execution_count": 21,
   "metadata": {},
   "outputs": [],
   "source": [
    "import requests"
   ]
  },
  {
   "cell_type": "code",
   "execution_count": 22,
   "metadata": {},
   "outputs": [
    {
     "name": "stdout",
     "output_type": "stream",
     "text": [
      "200\n"
     ]
    }
   ],
   "source": [
    "response = requests.get(\"http://api.open-notify.org/astros.json\")\n",
    "print(response.status_code)"
   ]
  },
  {
   "cell_type": "code",
   "execution_count": 23,
   "metadata": {},
   "outputs": [
    {
     "name": "stdout",
     "output_type": "stream",
     "text": [
      "{'people': [{'craft': 'ISS', 'name': 'Andrew Morgan'}, {'craft': 'ISS', 'name': 'Oleg Skripochka'}, {'craft': 'ISS', 'name': 'Jessica Meir'}], 'message': 'success', 'number': 3}\n"
     ]
    }
   ],
   "source": [
    "print(response.json())"
   ]
  },
  {
   "cell_type": "code",
   "execution_count": 24,
   "metadata": {},
   "outputs": [
    {
     "name": "stdout",
     "output_type": "stream",
     "text": [
      "{\n",
      "    \"message\": \"success\",\n",
      "    \"number\": 3,\n",
      "    \"people\": [\n",
      "        {\n",
      "            \"craft\": \"ISS\",\n",
      "            \"name\": \"Andrew Morgan\"\n",
      "        },\n",
      "        {\n",
      "            \"craft\": \"ISS\",\n",
      "            \"name\": \"Oleg Skripochka\"\n",
      "        },\n",
      "        {\n",
      "            \"craft\": \"ISS\",\n",
      "            \"name\": \"Jessica Meir\"\n",
      "        }\n",
      "    ]\n",
      "}\n"
     ]
    }
   ],
   "source": [
    "import json\n",
    "\n",
    "def jprint(obj):\n",
    "    # create a formatted string of the Python JSON object\n",
    "    text = json.dumps(obj, sort_keys=True, indent=4)\n",
    "    print(text)\n",
    "\n",
    "jprint(response.json())"
   ]
  },
  {
   "cell_type": "code",
   "execution_count": 25,
   "metadata": {},
   "outputs": [],
   "source": [
    "parameters = {\n",
    "    \"lat\": 40.71,\n",
    "    \"lon\": -74\n",
    "}"
   ]
  },
  {
   "cell_type": "code",
   "execution_count": 26,
   "metadata": {},
   "outputs": [
    {
     "name": "stdout",
     "output_type": "stream",
     "text": [
      "{\n",
      "    \"message\": \"success\",\n",
      "    \"request\": {\n",
      "        \"altitude\": 100,\n",
      "        \"datetime\": 1584283433,\n",
      "        \"latitude\": 40.71,\n",
      "        \"longitude\": -74.0,\n",
      "        \"passes\": 5\n",
      "    },\n",
      "    \"response\": [\n",
      "        {\n",
      "            \"duration\": 415,\n",
      "            \"risetime\": 1584317219\n",
      "        },\n",
      "        {\n",
      "            \"duration\": 645,\n",
      "            \"risetime\": 1584322870\n",
      "        },\n",
      "        {\n",
      "            \"duration\": 617,\n",
      "            \"risetime\": 1584328704\n",
      "        },\n",
      "        {\n",
      "            \"duration\": 559,\n",
      "            \"risetime\": 1584334595\n",
      "        },\n",
      "        {\n",
      "            \"duration\": 600,\n",
      "            \"risetime\": 1584340442\n",
      "        }\n",
      "    ]\n",
      "}\n"
     ]
    }
   ],
   "source": [
    "response = requests.get(\"http://api.open-notify.org/iss-pass.json\", params=parameters)\n",
    "\n",
    "jprint(response.json())"
   ]
  },
  {
   "cell_type": "code",
   "execution_count": 27,
   "metadata": {},
   "outputs": [
    {
     "name": "stdout",
     "output_type": "stream",
     "text": [
      "[\n",
      "    {\n",
      "        \"duration\": 415,\n",
      "        \"risetime\": 1584317219\n",
      "    },\n",
      "    {\n",
      "        \"duration\": 645,\n",
      "        \"risetime\": 1584322870\n",
      "    },\n",
      "    {\n",
      "        \"duration\": 617,\n",
      "        \"risetime\": 1584328704\n",
      "    },\n",
      "    {\n",
      "        \"duration\": 559,\n",
      "        \"risetime\": 1584334595\n",
      "    },\n",
      "    {\n",
      "        \"duration\": 600,\n",
      "        \"risetime\": 1584340442\n",
      "    }\n",
      "]\n"
     ]
    }
   ],
   "source": [
    "pass_times = response.json()['response']\n",
    "jprint(pass_times)"
   ]
  },
  {
   "cell_type": "code",
   "execution_count": 28,
   "metadata": {},
   "outputs": [
    {
     "name": "stdout",
     "output_type": "stream",
     "text": [
      "[1584317219, 1584322870, 1584328704, 1584334595, 1584340442]\n"
     ]
    }
   ],
   "source": [
    "risetimes = []\n",
    "\n",
    "for d in pass_times:\n",
    "    time = d['risetime']\n",
    "    risetimes.append(time)\n",
    "\n",
    "print(risetimes)"
   ]
  },
  {
   "cell_type": "code",
   "execution_count": 29,
   "metadata": {},
   "outputs": [
    {
     "name": "stdout",
     "output_type": "stream",
     "text": [
      "2020-03-16 01:06:59\n",
      "2020-03-16 02:41:10\n",
      "2020-03-16 04:18:24\n",
      "2020-03-16 05:56:35\n",
      "2020-03-16 07:34:02\n"
     ]
    }
   ],
   "source": [
    "from datetime import datetime\n",
    "\n",
    "times = []\n",
    "\n",
    "for rt in risetimes:\n",
    "    time = datetime.fromtimestamp(rt)\n",
    "    times.append(time)\n",
    "    print(time)"
   ]
  },
  {
   "cell_type": "code",
   "execution_count": 32,
   "metadata": {},
   "outputs": [],
   "source": [
    "stadt = requests.get(\"https://stadt-aachen.e2watch.de/gebaeude/getCo2emission/265?&time=1584284916655\")"
   ]
  },
  {
   "cell_type": "code",
   "execution_count": 35,
   "metadata": {},
   "outputs": [
    {
     "name": "stdout",
     "output_type": "stream",
     "text": [
      "{'success': True, 'result': '26'}\n"
     ]
    }
   ],
   "source": [
    "print(stadt.json())"
   ]
  },
  {
   "cell_type": "code",
   "execution_count": 37,
   "metadata": {},
   "outputs": [],
   "source": [
    "stadt2 = requests.get(\"https://stadt-aachen.e2watch.de/gebaeude/getChartData/265?medium=strom&chartId=strom&title=Strom&time=1584284914045\")"
   ]
  },
  {
   "cell_type": "code",
   "execution_count": 38,
   "metadata": {},
   "outputs": [
    {
     "name": "stdout",
     "output_type": "stream",
     "text": [
      "{'success': True, 'result': {'data': [[1581721200000, 6.940000000000001], [1581807600000, 7.11], [1581894000000, 71.84000000000002], [1581980400000, 66.96], [1582066800000, 67.77], [1582153200000, 59.300000000000004], [1582239600000, 29.14], [1582326000000, 6.98], [1582412400000, 7.1], [1582498800000, 10.05], [1582585200000, 62.410000000000004], [1582671600000, 71.22000000000001], [1582758000000, 84.93], [1582844400000, 61.959999999999994], [1582930800000, 7.16], [1583017200000, 7.17], [1583103600000, 68.22999999999999], [1583190000000, 62.70000000000001], [1583276400000, 58.79], [1583362800000, 73.64000000000001], [1583449200000, 39.26999999999999], [1583535600000, 13.580000000000002], [1583622000000, 14.610000000000001], [1583708400000, 68.39999999999999], [1583794800000, 83.72999999999999], [1583881200000, 68.21], [1583967600000, 64.88000000000001], [1584054000000, 71.68], [1584140400000, 7.229999999999999], [1584226800000, 0.19]], 'start': '14.02.2020 00:00:00', 'end': '15.03.2020 00:00:00', 'color': 'rgb(255,0,0)', 'unit': 'kWh', 'chartId': 'strom', 'title': 'Strom'}}\n"
     ]
    }
   ],
   "source": [
    "print(stadt2.json())"
   ]
  },
  {
   "cell_type": "code",
   "execution_count": 40,
   "metadata": {},
   "outputs": [
    {
     "ename": "TypeError",
     "evalue": "the JSON object must be str, bytes or bytearray, not dict",
     "output_type": "error",
     "traceback": [
      "\u001b[1;31m---------------------------------------------------------------------------\u001b[0m",
      "\u001b[1;31mTypeError\u001b[0m                                 Traceback (most recent call last)",
      "\u001b[1;32m<ipython-input-40-d4795595fe59>\u001b[0m in \u001b[0;36m<module>\u001b[1;34m\u001b[0m\n\u001b[0;32m      4\u001b[0m     \u001b[0mprint\u001b[0m\u001b[1;33m(\u001b[0m\u001b[0mtext1\u001b[0m\u001b[1;33m)\u001b[0m\u001b[1;33m\u001b[0m\u001b[1;33m\u001b[0m\u001b[0m\n\u001b[0;32m      5\u001b[0m \u001b[1;33m\u001b[0m\u001b[0m\n\u001b[1;32m----> 6\u001b[1;33m \u001b[0mjprint2\u001b[0m\u001b[1;33m(\u001b[0m\u001b[0mstadt2\u001b[0m\u001b[1;33m.\u001b[0m\u001b[0mjson\u001b[0m\u001b[1;33m(\u001b[0m\u001b[1;33m)\u001b[0m\u001b[1;33m)\u001b[0m\u001b[1;33m\u001b[0m\u001b[1;33m\u001b[0m\u001b[0m\n\u001b[0m",
      "\u001b[1;32m<ipython-input-40-d4795595fe59>\u001b[0m in \u001b[0;36mjprint2\u001b[1;34m(obj)\u001b[0m\n\u001b[0;32m      1\u001b[0m \u001b[1;32mdef\u001b[0m \u001b[0mjprint2\u001b[0m\u001b[1;33m(\u001b[0m\u001b[0mobj\u001b[0m\u001b[1;33m)\u001b[0m\u001b[1;33m:\u001b[0m\u001b[1;33m\u001b[0m\u001b[1;33m\u001b[0m\u001b[0m\n\u001b[0;32m      2\u001b[0m     \u001b[1;31m# create a formatted string of the Python JSON object\u001b[0m\u001b[1;33m\u001b[0m\u001b[1;33m\u001b[0m\u001b[1;33m\u001b[0m\u001b[0m\n\u001b[1;32m----> 3\u001b[1;33m     \u001b[0mtext1\u001b[0m \u001b[1;33m=\u001b[0m \u001b[0mjson\u001b[0m\u001b[1;33m.\u001b[0m\u001b[0mloads\u001b[0m\u001b[1;33m(\u001b[0m\u001b[0mobj\u001b[0m\u001b[1;33m,\u001b[0m \u001b[0msort_keys\u001b[0m\u001b[1;33m=\u001b[0m\u001b[1;32mTrue\u001b[0m\u001b[1;33m,\u001b[0m \u001b[0mindent\u001b[0m\u001b[1;33m=\u001b[0m\u001b[1;36m4\u001b[0m\u001b[1;33m)\u001b[0m\u001b[1;33m\u001b[0m\u001b[1;33m\u001b[0m\u001b[0m\n\u001b[0m\u001b[0;32m      4\u001b[0m     \u001b[0mprint\u001b[0m\u001b[1;33m(\u001b[0m\u001b[0mtext1\u001b[0m\u001b[1;33m)\u001b[0m\u001b[1;33m\u001b[0m\u001b[1;33m\u001b[0m\u001b[0m\n\u001b[0;32m      5\u001b[0m \u001b[1;33m\u001b[0m\u001b[0m\n",
      "\u001b[1;32mC:\\ProgramData\\Anaconda3\\lib\\json\\__init__.py\u001b[0m in \u001b[0;36mloads\u001b[1;34m(s, encoding, cls, object_hook, parse_float, parse_int, parse_constant, object_pairs_hook, **kw)\u001b[0m\n\u001b[0;32m    339\u001b[0m     \u001b[1;32melse\u001b[0m\u001b[1;33m:\u001b[0m\u001b[1;33m\u001b[0m\u001b[1;33m\u001b[0m\u001b[0m\n\u001b[0;32m    340\u001b[0m         \u001b[1;32mif\u001b[0m \u001b[1;32mnot\u001b[0m \u001b[0misinstance\u001b[0m\u001b[1;33m(\u001b[0m\u001b[0ms\u001b[0m\u001b[1;33m,\u001b[0m \u001b[1;33m(\u001b[0m\u001b[0mbytes\u001b[0m\u001b[1;33m,\u001b[0m \u001b[0mbytearray\u001b[0m\u001b[1;33m)\u001b[0m\u001b[1;33m)\u001b[0m\u001b[1;33m:\u001b[0m\u001b[1;33m\u001b[0m\u001b[1;33m\u001b[0m\u001b[0m\n\u001b[1;32m--> 341\u001b[1;33m             raise TypeError(f'the JSON object must be str, bytes or bytearray, '\n\u001b[0m\u001b[0;32m    342\u001b[0m                             f'not {s.__class__.__name__}')\n\u001b[0;32m    343\u001b[0m         \u001b[0ms\u001b[0m \u001b[1;33m=\u001b[0m \u001b[0ms\u001b[0m\u001b[1;33m.\u001b[0m\u001b[0mdecode\u001b[0m\u001b[1;33m(\u001b[0m\u001b[0mdetect_encoding\u001b[0m\u001b[1;33m(\u001b[0m\u001b[0ms\u001b[0m\u001b[1;33m)\u001b[0m\u001b[1;33m,\u001b[0m \u001b[1;34m'surrogatepass'\u001b[0m\u001b[1;33m)\u001b[0m\u001b[1;33m\u001b[0m\u001b[1;33m\u001b[0m\u001b[0m\n",
      "\u001b[1;31mTypeError\u001b[0m: the JSON object must be str, bytes or bytearray, not dict"
     ]
    }
   ],
   "source": [
    "def jprint2(obj):\n",
    "    # create a formatted string of the Python JSON object\n",
    "    text1 = json.loads(obj, sort_keys=True, indent=4)\n",
    "    print(text1)\n",
    "\n",
    "jprint2(stadt2.json())"
   ]
  },
  {
   "cell_type": "code",
   "execution_count": 42,
   "metadata": {},
   "outputs": [
    {
     "data": {
      "text/plain": [
       "{'data': [[1581721200000, 6.940000000000001],\n",
       "  [1581807600000, 7.11],\n",
       "  [1581894000000, 71.84000000000002],\n",
       "  [1581980400000, 66.96],\n",
       "  [1582066800000, 67.77],\n",
       "  [1582153200000, 59.300000000000004],\n",
       "  [1582239600000, 29.14],\n",
       "  [1582326000000, 6.98],\n",
       "  [1582412400000, 7.1],\n",
       "  [1582498800000, 10.05],\n",
       "  [1582585200000, 62.410000000000004],\n",
       "  [1582671600000, 71.22000000000001],\n",
       "  [1582758000000, 84.93],\n",
       "  [1582844400000, 61.959999999999994],\n",
       "  [1582930800000, 7.16],\n",
       "  [1583017200000, 7.17],\n",
       "  [1583103600000, 68.22999999999999],\n",
       "  [1583190000000, 62.70000000000001],\n",
       "  [1583276400000, 58.79],\n",
       "  [1583362800000, 73.64000000000001],\n",
       "  [1583449200000, 39.26999999999999],\n",
       "  [1583535600000, 13.580000000000002],\n",
       "  [1583622000000, 14.610000000000001],\n",
       "  [1583708400000, 68.39999999999999],\n",
       "  [1583794800000, 83.72999999999999],\n",
       "  [1583881200000, 68.21],\n",
       "  [1583967600000, 64.88000000000001],\n",
       "  [1584054000000, 71.68],\n",
       "  [1584140400000, 7.229999999999999],\n",
       "  [1584226800000, 0.19]],\n",
       " 'start': '14.02.2020 00:00:00',\n",
       " 'end': '15.03.2020 00:00:00',\n",
       " 'color': 'rgb(255,0,0)',\n",
       " 'unit': 'kWh',\n",
       " 'chartId': 'strom',\n",
       " 'title': 'Strom'}"
      ]
     },
     "execution_count": 42,
     "metadata": {},
     "output_type": "execute_result"
    }
   ],
   "source": [
    "stadt2.json()['result']"
   ]
  },
  {
   "cell_type": "code",
   "execution_count": null,
   "metadata": {},
   "outputs": [],
   "source": []
  }
 ],
 "metadata": {
  "kernelspec": {
   "display_name": "Python 3",
   "language": "python",
   "name": "python3"
  },
  "language_info": {
   "codemirror_mode": {
    "name": "ipython",
    "version": 3
   },
   "file_extension": ".py",
   "mimetype": "text/x-python",
   "name": "python",
   "nbconvert_exporter": "python",
   "pygments_lexer": "ipython3",
   "version": "3.7.4"
  }
 },
 "nbformat": 4,
 "nbformat_minor": 2
}
